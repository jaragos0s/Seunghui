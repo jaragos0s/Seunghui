{
 "cells": [
  {
   "cell_type": "code",
   "execution_count": 34,
   "id": "3e574c58",
   "metadata": {},
   "outputs": [],
   "source": [
    "import numpy as np\n",
    "import pandas as pd\n",
    "import random\n",
    "\n",
    "%matplotlib inline\n",
    "import matplotlib.pyplot as plt"
   ]
  },
  {
   "cell_type": "code",
   "execution_count": 2,
   "id": "7ecd0a67",
   "metadata": {},
   "outputs": [],
   "source": [
    "np.random.seed(42)\n",
    "random.seed(42)"
   ]
  },
  {
   "cell_type": "code",
   "execution_count": 3,
   "id": "63dc1ac0",
   "metadata": {},
   "outputs": [],
   "source": [
    "data = pd.read_csv('nbastat2021.csv')"
   ]
  },
  {
   "cell_type": "code",
   "execution_count": 5,
   "id": "ca6e8b72",
   "metadata": {
    "scrolled": true
   },
   "outputs": [],
   "source": [
    "features = ['FT%', '2P%', '3P%','PPGPointsPoints per game.', 'RPGReboundsRebounds per game.',\n",
    "       'APGAssistsAssists per game.', 'SPGStealsSteals per game.', 'BPGBlocksBlocks per game.', 'TOPGTurnoversTurnovers per game.']\n",
    "data_ = data[features]"
   ]
  },
  {
   "cell_type": "markdown",
   "id": "12d6288b",
   "metadata": {},
   "source": [
    "# 1. Correlation 과 Covariance 구하기"
   ]
  },
  {
   "cell_type": "code",
   "execution_count": 70,
   "id": "c63afda5",
   "metadata": {},
   "outputs": [],
   "source": [
    "x = np.array(data_)"
   ]
  },
  {
   "cell_type": "code",
   "execution_count": 140,
   "id": "9aa94058",
   "metadata": {},
   "outputs": [],
   "source": [
    "def covariance(x):\n",
    "    x = np.array(x)\n",
    "    matrix = []\n",
    "    for i in range(len(x)):\n",
    "        cov = []\n",
    "        for j in range(len(x)): # Cov(X[i], X[j]) for each i-th, j-th feature in X\n",
    "            ui = np.mean(x[i])\n",
    "            uj = np.mean(x[j])\n",
    "            cov.append(np.sum(np.dot(x[i]- ui, x[j]- uj)) / (len(x[0]) - 1))\n",
    "        matrix.append(cov)\n",
    "    return np.array(matrix)"
   ]
  },
  {
   "cell_type": "code",
   "execution_count": 141,
   "id": "26721d4c",
   "metadata": {
    "scrolled": true
   },
   "outputs": [
    {
     "data": {
      "text/plain": [
       "array([[ 9.85987086, 10.13058996, 19.35089232, ..., 18.83413456,\n",
       "        21.91606069, 11.84986253],\n",
       "       [10.13058996, 12.1856695 , 18.77081733, ..., 18.20469092,\n",
       "        18.27174846, 12.34535733],\n",
       "       [19.35089232, 18.77081733, 40.07977728, ..., 38.49328547,\n",
       "        51.0633959 , 23.18847561],\n",
       "       ...,\n",
       "       [18.83413456, 18.20469092, 38.49328547, ..., 37.23279778,\n",
       "        47.87539972, 22.55085589],\n",
       "       [21.91606069, 18.27174846, 51.0633959 , ..., 47.87539972,\n",
       "        81.12768728, 26.00653861],\n",
       "       [11.84986253, 12.34535733, 23.18847561, ..., 22.55085589,\n",
       "        26.00653861, 14.29821144]])"
      ]
     },
     "execution_count": 141,
     "metadata": {},
     "output_type": "execute_result"
    }
   ],
   "source": [
    "covariance(data_)"
   ]
  },
  {
   "cell_type": "code",
   "execution_count": 142,
   "id": "23fa712b",
   "metadata": {},
   "outputs": [],
   "source": [
    "def correlation(x):\n",
    "    x = np.array(x)\n",
    "    matrix = []\n",
    "    for i in range(len(x[0])):\n",
    "        cor = []\n",
    "        for j in range(len(x[0])):\n",
    "            ui = np.mean(x[i]) # Mean of i-th feature\n",
    "            uj = np.mean(x[j]) # Mean of j-th feature\n",
    "            si = np.sqrt(np.sum((x[i] - ui) ** 2)) # Std of i-th feature\n",
    "            sj = np.sqrt(np.sum((x[j] - uj) ** 2)) # Std of j-th feature\n",
    "            cor.append(np.sum((x[i] - ui) * (x[j] - uj)) / (si * sj))\n",
    "        matrix.append(cor)\n",
    "        \n",
    "    return matrix"
   ]
  },
  {
   "cell_type": "code",
   "execution_count": 143,
   "id": "e85231c7",
   "metadata": {
    "scrolled": true
   },
   "outputs": [],
   "source": [
    "b = correlation(data_)"
   ]
  },
  {
   "cell_type": "code",
   "execution_count": 144,
   "id": "b8ed5add",
   "metadata": {
    "scrolled": true
   },
   "outputs": [
    {
     "data": {
      "text/plain": [
       "[[0.9999999999999998,\n",
       "  0.9242180083192044,\n",
       "  0.9734255317859004,\n",
       "  0.9456940706739456,\n",
       "  0.8678913683973054,\n",
       "  0.8986099722154787,\n",
       "  0.9942952438502335,\n",
       "  0.9752213123073877,\n",
       "  0.9312314891873246],\n",
       " [0.9242180083192044,\n",
       "  1.0,\n",
       "  0.8493678851508686,\n",
       "  0.7627963654705562,\n",
       "  0.6706523712239544,\n",
       "  0.6973710965136163,\n",
       "  0.8866786006408172,\n",
       "  0.9241993399555597,\n",
       "  0.7686226539905756],\n",
       " [0.9734255317859004,\n",
       "  0.8493678851508686,\n",
       "  0.9999999999999998,\n",
       "  0.9815623178172801,\n",
       "  0.955931802706691,\n",
       "  0.9664100157772719,\n",
       "  0.9873183645433322,\n",
       "  0.9782260234690405,\n",
       "  0.9877260485695093],\n",
       " [0.9456940706739456,\n",
       "  0.7627963654705562,\n",
       "  0.9815623178172801,\n",
       "  1.0,\n",
       "  0.9664251197463702,\n",
       "  0.9861822592884754,\n",
       "  0.9729693660699693,\n",
       "  0.9313782872200488,\n",
       "  0.9870150766930773],\n",
       " [0.8678913683973054,\n",
       "  0.6706523712239544,\n",
       "  0.955931802706691,\n",
       "  0.9664251197463702,\n",
       "  0.9999999999999999,\n",
       "  0.9909705570705102,\n",
       "  0.9070226667890046,\n",
       "  0.8969999711811603,\n",
       "  0.988121719500223],\n",
       " [0.8986099722154787,\n",
       "  0.6973710965136163,\n",
       "  0.9664100157772719,\n",
       "  0.9861822592884754,\n",
       "  0.9909705570705102,\n",
       "  1.0000000000000002,\n",
       "  0.9341232309380536,\n",
       "  0.9109073002369721,\n",
       "  0.9898118644428512],\n",
       " [0.9942952438502335,\n",
       "  0.8866786006408172,\n",
       "  0.9873183645433322,\n",
       "  0.9729693660699693,\n",
       "  0.9070226667890046,\n",
       "  0.9341232309380536,\n",
       "  1.0,\n",
       "  0.9737127656887555,\n",
       "  0.958976474762312],\n",
       " [0.9752213123073877,\n",
       "  0.9241993399555597,\n",
       "  0.9782260234690405,\n",
       "  0.9313782872200488,\n",
       "  0.8969999711811603,\n",
       "  0.9109073002369721,\n",
       "  0.9737127656887555,\n",
       "  1.0000000000000002,\n",
       "  0.9479827925222187],\n",
       " [0.9312314891873246,\n",
       "  0.7686226539905756,\n",
       "  0.9877260485695093,\n",
       "  0.9870150766930773,\n",
       "  0.988121719500223,\n",
       "  0.9898118644428512,\n",
       "  0.958976474762312,\n",
       "  0.9479827925222187,\n",
       "  1.0]]"
      ]
     },
     "execution_count": 144,
     "metadata": {},
     "output_type": "execute_result"
    }
   ],
   "source": [
    "b"
   ]
  },
  {
   "cell_type": "markdown",
   "id": "08581ee7",
   "metadata": {},
   "source": [
    "# 2. Cosine similarity, Minkowski distance, Mahalanobis distance"
   ]
  },
  {
   "cell_type": "code",
   "execution_count": 150,
   "id": "e0f5d271",
   "metadata": {},
   "outputs": [],
   "source": [
    "a = data_.iloc[0]\n",
    "b = data_.iloc[1]"
   ]
  },
  {
   "cell_type": "code",
   "execution_count": 77,
   "id": "5398fdb1",
   "metadata": {},
   "outputs": [],
   "source": [
    "def cosine_similarity(x, y):\n",
    "    x = np.array(x)\n",
    "    y = np.array(y)\n",
    "    return np.dot(x, y) / (np.sqrt(np.sum(x ** 2)) * np.sqrt(np.sum(y ** 2)))"
   ]
  },
  {
   "cell_type": "code",
   "execution_count": 78,
   "id": "5a7281ac",
   "metadata": {},
   "outputs": [
    {
     "data": {
      "text/plain": [
       "0.9525060747573825"
      ]
     },
     "execution_count": 78,
     "metadata": {},
     "output_type": "execute_result"
    }
   ],
   "source": [
    "cosine_similarity(a, b)"
   ]
  },
  {
   "cell_type": "code",
   "execution_count": 79,
   "id": "bd834ce5",
   "metadata": {},
   "outputs": [],
   "source": [
    "def minkowski(x, y, r):\n",
    "    x = np.array(x)\n",
    "    y = np.array(y)\n",
    "    if r == np.inf: \n",
    "        return np.max(np.abs(x - y))\n",
    "    return np.power(np.sum(np.power(np.abs(x - y), r)), 1/r)"
   ]
  },
  {
   "cell_type": "code",
   "execution_count": 81,
   "id": "5409089c",
   "metadata": {},
   "outputs": [
    {
     "data": {
      "text/plain": [
       "4.048452667377995"
      ]
     },
     "execution_count": 81,
     "metadata": {},
     "output_type": "execute_result"
    }
   ],
   "source": [
    "minkowski(a, b, 2)"
   ]
  },
  {
   "cell_type": "code",
   "execution_count": 153,
   "id": "41c50a72",
   "metadata": {},
   "outputs": [],
   "source": [
    "def mahalanobis(x, y):\n",
    "    x = np.array(x)\n",
    "    y = np.array(y)\n",
    "    def cov(x): # To calculate covariance of x\n",
    "        matrix = []\n",
    "        for i in range(len(x)):\n",
    "            cov = []\n",
    "            for j in range(len(x)):\n",
    "                ui = np.mean(x[i])\n",
    "                uj = np.mean(x[j])\n",
    "                cov.append(np.sum(np.dot(x[i]- ui, x[j]- uj)) / (len(x[0]) - 1))\n",
    "            matrix.append(cov)\n",
    "        return np.array(matrix)\n",
    "    covariance = cov(np.stack((x, y), axis=1)) # to calculate covariance of x and y, stacking x and y in one 2d array\n",
    "    return np.sqrt(np.dot(np.dot((x-y).T, np.linalg.inv(covariance)), (x-y)))"
   ]
  },
  {
   "cell_type": "code",
   "execution_count": 154,
   "id": "da31fc29",
   "metadata": {
    "scrolled": false
   },
   "outputs": [
    {
     "data": {
      "text/plain": [
       "3.1986293939748642"
      ]
     },
     "execution_count": 154,
     "metadata": {},
     "output_type": "execute_result"
    }
   ],
   "source": [
    "mahalanobis(a, b)"
   ]
  },
  {
   "cell_type": "markdown",
   "id": "13db6e45",
   "metadata": {},
   "source": [
    "# 3. Mutual Information"
   ]
  },
  {
   "cell_type": "code",
   "execution_count": 84,
   "id": "be2e8060",
   "metadata": {},
   "outputs": [],
   "source": [
    "def mutual_information(x, y):\n",
    "    hx = 0\n",
    "    hy = 0\n",
    "    hxy = 0\n",
    "    x = list(x)\n",
    "    y = list(y)\n",
    "    for i in set(x):\n",
    "        p_i = x.count(i) / len(x) # probability of i\n",
    "        hx -= p_i * np.log2(p_i)  # entropy\n",
    "    for i in set(y):\n",
    "        p_i = y.count(i) / len(y) # probability of i\n",
    "        hy -= p_i * np.log2(p_i) # entropy \n",
    "    \n",
    "    joint_ary = np.array([[x[i], y[i]] for i in range(len(x))])\n",
    "    joint_ary.sort()\n",
    "    values, counts = np.unique(joint_ary, axis=0, return_counts=True) # To count number of joint sets\n",
    "    i = 0\n",
    "    for idx, value in enumerate(values):\n",
    "        p_ij = counts[idx] / len(joint_ary) # joint probability\n",
    "        hxy -= p_ij * np.log2(p_ij) # joint entropy\n",
    "    return hx, hy, hx + hy - hxy # total entropy of x, total entropy of y, MI of x and y"
   ]
  },
  {
   "cell_type": "code",
   "execution_count": 85,
   "id": "de22133d",
   "metadata": {
    "scrolled": true
   },
   "outputs": [
    {
     "data": {
      "text/plain": [
       "(2.0575955444688696, 4.896210815378615, 0.3612342912010771)"
      ]
     },
     "execution_count": 85,
     "metadata": {},
     "output_type": "execute_result"
    }
   ],
   "source": [
    "x = data['POS']\n",
    "y = data['TEAM']\n",
    "\n",
    "mutual_information(x, y)"
   ]
  },
  {
   "cell_type": "markdown",
   "id": "4cc57520",
   "metadata": {},
   "source": [
    "# 4. Mykmeans"
   ]
  },
  {
   "cell_type": "code",
   "execution_count": 21,
   "id": "670b1605",
   "metadata": {},
   "outputs": [],
   "source": [
    "def init_center(X, k): # Initialization of centroids\n",
    "    X = np.array(X)\n",
    "    m = len(X)\n",
    "    indexs = np.random.choice(np.arange(m), k)\n",
    "    centers = []  \n",
    "    for i in indexs:\n",
    "        centers.append(X[i])\n",
    "    return np.array(centers)"
   ]
  },
  {
   "cell_type": "code",
   "execution_count": 22,
   "id": "3f27151b",
   "metadata": {},
   "outputs": [],
   "source": [
    "c1 = init_center(data_, 5)\n",
    "c2 = init_center(data_, 3)"
   ]
  },
  {
   "cell_type": "markdown",
   "id": "bed56fcc",
   "metadata": {},
   "source": [
    "l2-norm version"
   ]
  },
  {
   "cell_type": "code",
   "execution_count": 136,
   "id": "3eae6d27",
   "metadata": {},
   "outputs": [],
   "source": [
    "def mykmeans(X, k, c):\n",
    "    def distance(x, y): # L2-norm\n",
    "        return np.sqrt(np.sum((x - y) ** 2))\n",
    "    X =  np.array(X)\n",
    "    cluster = np.zeros(len(X))\n",
    "    group = [[] for _ in range(k)] # to store the values of each clusters\n",
    "    for iter_ in range(100): # within max iteration 100, \n",
    "        for i, obj in enumerate(X):\n",
    "            min_d = np.inf   # initialize min distance\n",
    "            for idx, center in enumerate(c):\n",
    "                d = distance(obj, center) # l2 - norm between centroids and objects\n",
    "                if min_d > d: # If we find better clusters,\n",
    "                    min_d = d # update minimum distance\n",
    "                    cluster[i] = int(idx) # update cluster\n",
    "                    group[idx].append(X[i])\n",
    "        new = np.zeros_like(c) # new centroids\n",
    "        for idx, center in enumerate(c):\n",
    "            new[idx] = np.mean(group[idx], axis=0)\n",
    "        if distance(new, c) <= 0.001: # if l2-norm between a previous center and an updated center is <= 0.001,\n",
    "            print(iter_)\n",
    "            return c, cluster # terminate iteration\n",
    "        else:\n",
    "            c = new\n",
    "    print(iter_)    \n",
    "    return c, cluster # terminate iteration since the number of iteration reaches 100"
   ]
  },
  {
   "cell_type": "code",
   "execution_count": 137,
   "id": "a24157ee",
   "metadata": {
    "scrolled": false
   },
   "outputs": [
    {
     "name": "stdout",
     "output_type": "stream",
     "text": [
      "99\n"
     ]
    }
   ],
   "source": [
    "center, clusters = mykmeans(data_, 5, c1)"
   ]
  },
  {
   "cell_type": "code",
   "execution_count": 138,
   "id": "eca3c995",
   "metadata": {},
   "outputs": [
    {
     "data": {
      "text/plain": [
       "array([[ 0.78174167,  0.52894167,  0.33033333, 13.75041667,  5.11666667,\n",
       "         3.09291667,  0.89579167,  0.54545833,  1.60733333],\n",
       "       [ 0.75535655,  0.54626519,  0.30811327,  8.66432554,  4.35946395,\n",
       "         1.90957645,  0.79844468,  0.52620953,  0.98830872],\n",
       "       [ 0.71171288,  0.57603965,  0.23384466,  9.4417412 ,  6.34063804,\n",
       "         1.62742993,  0.74270722,  0.82452594,  1.02455874],\n",
       "       [ 0.64184525,  0.61257565,  0.11811898,  8.94140303,  8.80130674,\n",
       "         2.08954608,  0.76832875,  1.2165956 ,  1.25816369],\n",
       "       [ 0.81345375,  0.52305575,  0.33409188, 22.84121946,  6.84142827,\n",
       "         5.51432449,  1.1279787 ,  0.62511798,  2.86802673]])"
      ]
     },
     "execution_count": 138,
     "metadata": {},
     "output_type": "execute_result"
    }
   ],
   "source": [
    "center"
   ]
  },
  {
   "cell_type": "code",
   "execution_count": 139,
   "id": "0e9f5312",
   "metadata": {},
   "outputs": [
    {
     "data": {
      "text/plain": [
       "Text(0.5, 1.0, 'l2 norm')"
      ]
     },
     "execution_count": 139,
     "metadata": {},
     "output_type": "execute_result"
    },
    {
     "data": {
      "image/png": "[encoded data removed]",
      "text/plain": [
       "<Figure size 432x288 with 1 Axes>"
      ]
     },
     "metadata": {
      "needs_background": "light"
     },
     "output_type": "display_data"
    }
   ],
   "source": [
    "plt.hist(clusters)\n",
    "plt.title('l2 norm')"
   ]
  },
  {
   "cell_type": "markdown",
   "id": "0a2c5187",
   "metadata": {},
   "source": [
    "Minkowski (r = 2)"
   ]
  },
  {
   "cell_type": "code",
   "execution_count": 25,
   "id": "506c2749",
   "metadata": {},
   "outputs": [],
   "source": [
    "def mykmeans_minkowski(X, k, c):\n",
    "    def distance(x, y): # Minkowski distance\n",
    "        return np.sqrt(np.sum(np.abs(x - y) ** 2))\n",
    "    X =  np.array(X)\n",
    "    min_d = np.inf\n",
    "    cluster = np.zeros(len(X))\n",
    "    group = [[] for _ in range(k)] # to store the values of each clusters\n",
    "    for iter_ in range(100): # within max iteration 100, \n",
    "        for i, obj in enumerate(X):\n",
    "            min_d = np.inf # initialize min distance\n",
    "            for idx, center in enumerate(c):\n",
    "                d = distance(obj, center) # minkowski distance between centroids and objects\n",
    "                if min_d > d: # If we find better clusters,\n",
    "                    min_d = d # update minimum distance\n",
    "                    cluster[i] = idx # update cluster\n",
    "                    group[idx].append(X[i])\n",
    "        new = np.zeros_like(c) # new centroids\n",
    "        for idx, center in enumerate(c):\n",
    "            new[idx] = np.mean(group[idx], axis=0)\n",
    "        if distance(new, c) <= 0.001:  # if minkowski distance between a previous center and an updated center is <= 0.001,\n",
    "            print(iter_)\n",
    "            return c, cluster # terminate iteration\n",
    "        else:\n",
    "            c = new\n",
    "    print(iter_)    \n",
    "    return c, cluster # terminate iteration since the number of iteration reaches 100"
   ]
  },
  {
   "cell_type": "code",
   "execution_count": 43,
   "id": "9714059d",
   "metadata": {},
   "outputs": [
    {
     "name": "stdout",
     "output_type": "stream",
     "text": [
      "99\n"
     ]
    }
   ],
   "source": [
    "center2, cluster2 = mykmeans_minkowski(data_, 5, c1)\n",
    "center3, cluster3 = mykmeans_minkowski(data_, 3, c2)"
   ]
  },
  {
   "cell_type": "code",
   "execution_count": 61,
   "id": "c80e7ff5",
   "metadata": {},
   "outputs": [
    {
     "data": {
      "text/plain": [
       "array([[ 0.78174167,  0.52894167,  0.33033333, 13.75041667,  5.11666667,\n",
       "         3.09291667,  0.89579167,  0.54545833,  1.60733333],\n",
       "       [ 0.75535655,  0.54626519,  0.30811327,  8.66432554,  4.35946395,\n",
       "         1.90957645,  0.79844468,  0.52620953,  0.98830872],\n",
       "       [ 0.71171288,  0.57603965,  0.23384466,  9.4417412 ,  6.34063804,\n",
       "         1.62742993,  0.74270722,  0.82452594,  1.02455874],\n",
       "       [ 0.64184525,  0.61257565,  0.11811898,  8.94140303,  8.80130674,\n",
       "         2.08954608,  0.76832875,  1.2165956 ,  1.25816369],\n",
       "       [ 0.81345375,  0.52305575,  0.33409188, 22.84121946,  6.84142827,\n",
       "         5.51432449,  1.1279787 ,  0.62511798,  2.86802673]])"
      ]
     },
     "execution_count": 61,
     "metadata": {},
     "output_type": "execute_result"
    }
   ],
   "source": [
    "center2"
   ]
  },
  {
   "cell_type": "code",
   "execution_count": 62,
   "id": "4148f43d",
   "metadata": {},
   "outputs": [
    {
     "data": {
      "text/plain": [
       "array([[ 0.78174167,  0.52894167,  0.33033333, 13.75041667,  5.11666667,\n",
       "         3.09291667,  0.89579167,  0.54545833,  1.60733333],\n",
       "       [ 0.75691337,  0.54496398,  0.3091625 ,  8.72392432,  4.34386285,\n",
       "         1.90368805,  0.79898963,  0.52398579,  0.99110353],\n",
       "       [ 0.80723008,  0.52395154,  0.33431382, 22.4       ,  6.87373522,\n",
       "         5.33068424,  1.10346773,  0.63410351,  2.79234542]])"
      ]
     },
     "execution_count": 62,
     "metadata": {},
     "output_type": "execute_result"
    }
   ],
   "source": [
    "center3"
   ]
  },
  {
   "cell_type": "code",
   "execution_count": 55,
   "id": "351295c3",
   "metadata": {},
   "outputs": [
    {
     "data": {
      "image/png": "[encoded data removed]",
      "text/plain": [
       "<Figure size 432x288 with 2 Axes>"
      ]
     },
     "metadata": {
      "needs_background": "light"
     },
     "output_type": "display_data"
    }
   ],
   "source": [
    "fig, ax = plt.subplots(nrows=1, ncols=2)\n",
    "ax[0].hist(cluster2)\n",
    "ax[0].title.set_text('Minkowski(r=2) for k=5')\n",
    "ax[1].hist(cluster3)\n",
    "ax[1].title.set_text('Minkowski(r=2) for k=3')"
   ]
  },
  {
   "cell_type": "code",
   "execution_count": 94,
   "id": "36c1ab43",
   "metadata": {},
   "outputs": [],
   "source": [
    "def mykmeans_cosine(X, k, c):\n",
    "    def distance(x, y): # Cosine similarity\n",
    "        return np.dot(x, y) / (np.sqrt(np.sum(x**2)) * np.sqrt(np.sum(y**2)))\n",
    "    X =  np.array(X)\n",
    "    min_d = np.inf\n",
    "    cluster = np.zeros(len(X))\n",
    "    group = [[] for _ in range(k)] # to store the values of each clusters\n",
    "    for iter_ in range(100): # within max iteration 100,\n",
    "        for i, obj in enumerate(X):\n",
    "            min_d = np.inf # initialize minimum distance\n",
    "            for idx, center in enumerate(c):\n",
    "                d = distance(obj, center) # to calculate cosine similarity between centroids and objects\n",
    "                if min_d > d: # if we find better clusters, \n",
    "                    min_d = d # update minimum distance\n",
    "                    cluster[i] = idx # update cluster\n",
    "                    group[idx].append(X[i])\n",
    "        new = np.zeros_like(c) # new centroids\n",
    "        for idx, center in enumerate(c):\n",
    "            new[idx] = np.mean(group[idx], axis=0)\n",
    "        if (distance(new[i], c[i]) <= 0.001 for i in range(len(c))): # if cosine similarity between a previous center and an updated center is <= 0.001,\n",
    "            print(iter_)\n",
    "            return c, cluster # terminate iteration\n",
    "        else:\n",
    "            c = new\n",
    "    print(iter_)    \n",
    "    return c, cluster # terminate iteration since the number of iteration reaches 100"
   ]
  },
  {
   "cell_type": "code",
   "execution_count": 95,
   "id": "dc1dcee1",
   "metadata": {},
   "outputs": [
    {
     "name": "stdout",
     "output_type": "stream",
     "text": [
      "0\n"
     ]
    }
   ],
   "source": [
    "center4, cluster4 = mykmeans_cosine(data_, 5, c1)\n",
    "center5, cluster5 = mykmeans_cosine(data_, 3, c2)"
   ]
  },
  {
   "cell_type": "code",
   "execution_count": 96,
   "id": "b34e93ca",
   "metadata": {},
   "outputs": [
    {
     "data": {
      "text/plain": [
       "array([[ 0.846,  0.499,  0.39 , 16.1  ,  4.6  ,  3.6  ,  0.96 ,  0.46 ,\n",
       "         1.67 ],\n",
       "       [ 0.6  ,  0.434,  0.375, 14.1  ,  4.1  ,  6.   ,  1.14 ,  0.35 ,\n",
       "         3.31 ],\n",
       "       [ 0.837,  0.619,  0.299, 10.3  ,  3.2  ,  1.3  ,  0.36 ,  0.38 ,\n",
       "         0.97 ],\n",
       "       [ 0.745,  0.538,  0.242,  9.3  ,  7.2  ,  0.6  ,  0.3  ,  0.37 ,\n",
       "         0.7  ],\n",
       "       [ 0.763,  0.543,  0.414, 18.4  ,  4.6  ,  6.7  ,  1.62 ,  0.45 ,\n",
       "         2.79 ]])"
      ]
     },
     "execution_count": 96,
     "metadata": {},
     "output_type": "execute_result"
    }
   ],
   "source": [
    "center4"
   ]
  },
  {
   "cell_type": "code",
   "execution_count": 98,
   "id": "ed37fab5",
   "metadata": {},
   "outputs": [
    {
     "data": {
      "text/plain": [
       "array([[ 0.778,  0.509,  0.354, 21.1  ,  4.7  ,  3.7  ,  1.55 ,  0.71 ,\n",
       "         2.68 ],\n",
       "       [ 0.9  ,  0.421,  0.379, 11.9  ,  2.5  ,  1.1  ,  1.03 ,  0.32 ,\n",
       "         1.29 ],\n",
       "       [ 0.735,  0.54 ,  0.314, 15.5  ,  7.7  ,  3.4  ,  1.16 ,  0.81 ,\n",
       "         1.9  ]])"
      ]
     },
     "execution_count": 98,
     "metadata": {},
     "output_type": "execute_result"
    }
   ],
   "source": [
    "center5"
   ]
  },
  {
   "cell_type": "code",
   "execution_count": 99,
   "id": "3c398c87",
   "metadata": {},
   "outputs": [
    {
     "data": {
      "image/png": "[encoded data removed]",
      "text/plain": [
       "<Figure size 432x288 with 2 Axes>"
      ]
     },
     "metadata": {
      "needs_background": "light"
     },
     "output_type": "display_data"
    }
   ],
   "source": [
    "fig, ax = plt.subplots(nrows=1, ncols=2)\n",
    "ax[0].hist(cluster4)\n",
    "ax[0].title.set_text('Cosine similarity for k = 5')\n",
    "ax[1].hist(cluster5)\n",
    "ax[1].title.set_text('Cosine similarity for k = 3')"
   ]
  },
  {
   "cell_type": "code",
   "execution_count": 127,
   "id": "b61282f6",
   "metadata": {},
   "outputs": [],
   "source": [
    "def mykmeans_mahalanobis(X, k, c):\n",
    "    def distance(x, y): # Mahalanobis distance\n",
    "        def cov(x): # To calculate covariance\n",
    "            matrix = []\n",
    "            for i in range(len(x)):\n",
    "                cov = []\n",
    "                for j in range(len(x)):\n",
    "                    cov.append(np.sum(np.dot(x[i]- np.mean(x[i]), x[j]- np.mean(x[j]))) / (len(x[0]) - 1))\n",
    "                matrix.append(cov)\n",
    "            return np.array(matrix)\n",
    "        \n",
    "        covariance = cov(np.stack((x, y), axis=1))\n",
    "        return np.sqrt(np.dot(np.dot((x-y).T, np.linalg.pinv(covariance)), (x-y)))\n",
    "    \n",
    "    X =  np.array(X)\n",
    "    min_d = np.inf\n",
    "    cluster = np.zeros(len(X))\n",
    "    group = [[] for _ in range(k)] # to store the values of each clusters\n",
    "    for iter_ in range(100): # within max iteration 100,\n",
    "        for i, obj in enumerate(X):\n",
    "            min_d = np.inf # initialize minimum distance\n",
    "            for idx, center in enumerate(c):\n",
    "                d = distance(obj, center) # to calculate mahalanobis distance\n",
    "                if min_d > d: # if we find better cluster,\n",
    "                    min_d = d # update minimum distance\n",
    "                    cluster[i] = idx # update cluster\n",
    "                    group[idx].append(X[i])\n",
    "        new = np.zeros_like(c) # new centroids\n",
    "        for idx, center in enumerate(c):\n",
    "            new[idx] = np.mean(group[idx], axis=0)\n",
    "        if (distance(new[i], c[i]) <= 0.001 for i in range(len(c))): # if mahalanobis distance between a previous center and an updated center is <= 0.001,\n",
    "            print(iter_)\n",
    "            return c, cluster # terminate iteration\n",
    "        else:\n",
    "            c = new\n",
    "    print(iter_)    \n",
    "    return c, cluster # terminate iteration since the number of iteration reaches 100."
   ]
  },
  {
   "cell_type": "code",
   "execution_count": 129,
   "id": "e3748d4c",
   "metadata": {},
   "outputs": [
    {
     "name": "stdout",
     "output_type": "stream",
     "text": [
      "0\n"
     ]
    }
   ],
   "source": [
    "center6, cluster6 = mykmeans_mahalanobis(data_, 5, c1)\n",
    "center7, cluster7 = mykmeans_mahalanobis(data_, 3, c2)"
   ]
  },
  {
   "cell_type": "code",
   "execution_count": 132,
   "id": "aeb6babe",
   "metadata": {},
   "outputs": [
    {
     "data": {
      "image/png": "[encoded data removed]",
      "text/plain": [
       "<Figure size 432x288 with 2 Axes>"
      ]
     },
     "metadata": {
      "needs_background": "light"
     },
     "output_type": "display_data"
    }
   ],
   "source": [
    "fig, ax = plt.subplots(nrows=1, ncols=2)\n",
    "ax[0].hist(cluster6)\n",
    "ax[0].title.set_text('Mahalanobis for k = 5')\n",
    "ax[1].hist(cluster7)\n",
    "ax[1].title.set_text('Mahalanobis for k = 3')"
   ]
  }
 ],
 "metadata": {
  "kernelspec": {
   "display_name": "Python 3 (ipykernel)",
   "language": "python",
   "name": "python3"
  },
  "language_info": {
   "codemirror_mode": {
    "name": "ipython",
    "version": 3
   },
   "file_extension": ".py",
   "mimetype": "text/x-python",
   "name": "python",
   "nbconvert_exporter": "python",
   "pygments_lexer": "ipython3",
   "version": "3.8.12"
  }
 },
 "nbformat": 4,
 "nbformat_minor": 5
}
